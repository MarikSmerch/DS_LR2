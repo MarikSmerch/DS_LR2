{
 "cells": [
  {
   "cell_type": "markdown",
   "id": "38efb836-3be3-4481-87e6-ffe8082fdbfc",
   "metadata": {},
   "source": [
    "# Цель работы\n",
    "\n",
    "Изучение связи между признаками двумерного набора данных, визуализация данных.\n",
    "# Вариант задания\n",
    "\n",
    "Вариант №9.\n",
    "\n",
    "Набор данных: visits2.csv.\n",
    "\n",
    "Данные пользовательских сессии магазина:\n",
    "1. уникальный идентификатор пользователя;\n",
    "2. страна пользователя;\n",
    "3. устройство пользователя;\n",
    "4. идентификатор рекламного источника, из которого пришел пользователь;\n",
    "5. дата и время начала сессии;\n",
    "6. дата и время окончания сессии;\n",
    "7. время сессии в минутах;\n",
    "8. кол-во кликов пользователя;\n",
    "9. количество товаров в корзине;\n",
    "10. стоимость покупок;\n",
    "11. возраст пользователя.\n",
    "# Ход выполнения работы\n",
    "### 1. Чтение файла\n",
    "\n",
    "Перед началом работы необходимо прочитать таблицу и преобразовать в датафрейм. Для этого была подключена библиотека Pandas, с помощью которой воспроизводилось чтение файла. Также были подключены библиотеки matplotlib и seaborn. Они необходимы для построения гистограмм. "
   ]
  },
  {
   "cell_type": "code",
   "execution_count": 3,
   "id": "1feb2371-0e46-489b-ba37-063af849ba0a",
   "metadata": {},
   "outputs": [],
   "source": [
    "import pandas as pd\n",
    "import matplotlib.pyplot as plt\n",
    "import seaborn as sns\n",
    "df = pd.read_csv('./visits2.csv')"
   ]
  },
  {
   "cell_type": "markdown",
   "id": "b1f52001-e054-4f95-a061-36dff7f1360c",
   "metadata": {},
   "source": [
    "### Обзор данных"
   ]
  },
  {
   "cell_type": "code",
   "execution_count": 5,
   "id": "a0bc2d19-d701-4b5d-97e4-862e0280b0f9",
   "metadata": {},
   "outputs": [
    {
     "name": "stdout",
     "output_type": "stream",
     "text": [
      "<class 'pandas.core.frame.DataFrame'>\n",
      "RangeIndex: 954 entries, 0 to 953\n",
      "Data columns (total 1 columns):\n",
      " #   Column                                                                                                 Non-Null Count  Dtype \n",
      "---  ------                                                                                                 --------------  ----- \n",
      " 0   user_id ;region;device;channel;session_start;session_end;time_session;click_count;buy_count;price;age  954 non-null    object\n",
      "dtypes: object(1)\n",
      "memory usage: 7.6+ KB\n"
     ]
    }
   ],
   "source": [
    "df.info()"
   ]
  },
  {
   "cell_type": "code",
   "execution_count": 6,
   "id": "35a187be-66fd-480d-949f-ce756a6eb016",
   "metadata": {},
   "outputs": [
    {
     "data": {
      "text/html": [
       "<div>\n",
       "<style scoped>\n",
       "    .dataframe tbody tr th:only-of-type {\n",
       "        vertical-align: middle;\n",
       "    }\n",
       "\n",
       "    .dataframe tbody tr th {\n",
       "        vertical-align: top;\n",
       "    }\n",
       "\n",
       "    .dataframe thead th {\n",
       "        text-align: right;\n",
       "    }\n",
       "</style>\n",
       "<table border=\"1\" class=\"dataframe\">\n",
       "  <thead>\n",
       "    <tr style=\"text-align: right;\">\n",
       "      <th></th>\n",
       "      <th>user_id ;region;device;channel;session_start;session_end;time_session;click_count;buy_count;price;age</th>\n",
       "    </tr>\n",
       "  </thead>\n",
       "  <tbody>\n",
       "    <tr>\n",
       "      <th>0</th>\n",
       "      <td>278965908054;United States;iPhone;organic;01.0...</td>\n",
       "    </tr>\n",
       "    <tr>\n",
       "      <th>1</th>\n",
       "      <td>244878945432;United States;Mac;organic;01.05.2...</td>\n",
       "    </tr>\n",
       "    <tr>\n",
       "      <th>2</th>\n",
       "      <td>590706206550;United States;Mac;organic;01.05.2...</td>\n",
       "    </tr>\n",
       "    <tr>\n",
       "      <th>3</th>\n",
       "      <td>326433527971;United States;Android;TipTop;01.0...</td>\n",
       "    </tr>\n",
       "    <tr>\n",
       "      <th>4</th>\n",
       "      <td>349773784594;United States;Mac;organic;01.05.2...</td>\n",
       "    </tr>\n",
       "    <tr>\n",
       "      <th>5</th>\n",
       "      <td>90242400005;United States;Android;organic;01.0...</td>\n",
       "    </tr>\n",
       "    <tr>\n",
       "      <th>6</th>\n",
       "      <td>43958116050;United States;iPhone;organic;01.05...</td>\n",
       "    </tr>\n",
       "    <tr>\n",
       "      <th>7</th>\n",
       "      <td>15174034813;United States;Mac;organic;01.05.20...</td>\n",
       "    </tr>\n",
       "    <tr>\n",
       "      <th>8</th>\n",
       "      <td>446013509831;United States;iPhone;organic;01.0...</td>\n",
       "    </tr>\n",
       "    <tr>\n",
       "      <th>9</th>\n",
       "      <td>100970711362;United States;Mac;FaceBoom;01.05....</td>\n",
       "    </tr>\n",
       "    <tr>\n",
       "      <th>10</th>\n",
       "      <td>23110169785;United States;iPhone;organic;01.05...</td>\n",
       "    </tr>\n",
       "    <tr>\n",
       "      <th>11</th>\n",
       "      <td>370455852550;United States;iPhone;MediaTornado...</td>\n",
       "    </tr>\n",
       "    <tr>\n",
       "      <th>12</th>\n",
       "      <td>784885401335;Russia;iPhone;TipTop;01.05.2019 2...</td>\n",
       "    </tr>\n",
       "    <tr>\n",
       "      <th>13</th>\n",
       "      <td>619068889591;Russia;PC;FaceBoom;01.05.2019 20:...</td>\n",
       "    </tr>\n",
       "    <tr>\n",
       "      <th>14</th>\n",
       "      <td>774938424092;Russia;Mac;organic;01.05.2019 17:...</td>\n",
       "    </tr>\n",
       "    <tr>\n",
       "      <th>15</th>\n",
       "      <td>762505039443;Russia;Android;organic;01.05.2019...</td>\n",
       "    </tr>\n",
       "    <tr>\n",
       "      <th>16</th>\n",
       "      <td>355761474010;Russia;iPhone;FaceBoom;01.05.2019...</td>\n",
       "    </tr>\n",
       "    <tr>\n",
       "      <th>17</th>\n",
       "      <td>221611265998;Russia;iPhone;organic;01.05.2019 ...</td>\n",
       "    </tr>\n",
       "    <tr>\n",
       "      <th>18</th>\n",
       "      <td>57218022811;Russia;iPhone;organic;01.05.2019 1...</td>\n",
       "    </tr>\n",
       "    <tr>\n",
       "      <th>19</th>\n",
       "      <td>88533696308;Russia;iPhone;organic;01.05.2019 1...</td>\n",
       "    </tr>\n",
       "  </tbody>\n",
       "</table>\n",
       "</div>"
      ],
      "text/plain": [
       "   user_id ;region;device;channel;session_start;session_end;time_session;click_count;buy_count;price;age\n",
       "0   278965908054;United States;iPhone;organic;01.0...                                                   \n",
       "1   244878945432;United States;Mac;organic;01.05.2...                                                   \n",
       "2   590706206550;United States;Mac;organic;01.05.2...                                                   \n",
       "3   326433527971;United States;Android;TipTop;01.0...                                                   \n",
       "4   349773784594;United States;Mac;organic;01.05.2...                                                   \n",
       "5   90242400005;United States;Android;organic;01.0...                                                   \n",
       "6   43958116050;United States;iPhone;organic;01.05...                                                   \n",
       "7   15174034813;United States;Mac;organic;01.05.20...                                                   \n",
       "8   446013509831;United States;iPhone;organic;01.0...                                                   \n",
       "9   100970711362;United States;Mac;FaceBoom;01.05....                                                   \n",
       "10  23110169785;United States;iPhone;organic;01.05...                                                   \n",
       "11  370455852550;United States;iPhone;MediaTornado...                                                   \n",
       "12  784885401335;Russia;iPhone;TipTop;01.05.2019 2...                                                   \n",
       "13  619068889591;Russia;PC;FaceBoom;01.05.2019 20:...                                                   \n",
       "14  774938424092;Russia;Mac;organic;01.05.2019 17:...                                                   \n",
       "15  762505039443;Russia;Android;organic;01.05.2019...                                                   \n",
       "16  355761474010;Russia;iPhone;FaceBoom;01.05.2019...                                                   \n",
       "17  221611265998;Russia;iPhone;organic;01.05.2019 ...                                                   \n",
       "18  57218022811;Russia;iPhone;organic;01.05.2019 1...                                                   \n",
       "19  88533696308;Russia;iPhone;organic;01.05.2019 1...                                                   "
      ]
     },
     "execution_count": 6,
     "metadata": {},
     "output_type": "execute_result"
    }
   ],
   "source": [
    "df.head(20)"
   ]
  },
  {
   "cell_type": "code",
   "execution_count": 7,
   "id": "b6b82afe-f6aa-4e0c-9b28-c9b4a90d1f42",
   "metadata": {},
   "outputs": [
    {
     "data": {
      "text/html": [
       "<div>\n",
       "<style scoped>\n",
       "    .dataframe tbody tr th:only-of-type {\n",
       "        vertical-align: middle;\n",
       "    }\n",
       "\n",
       "    .dataframe tbody tr th {\n",
       "        vertical-align: top;\n",
       "    }\n",
       "\n",
       "    .dataframe thead th {\n",
       "        text-align: right;\n",
       "    }\n",
       "</style>\n",
       "<table border=\"1\" class=\"dataframe\">\n",
       "  <thead>\n",
       "    <tr style=\"text-align: right;\">\n",
       "      <th></th>\n",
       "      <th>user_id ;region;device;channel;session_start;session_end;time_session;click_count;buy_count;price;age</th>\n",
       "    </tr>\n",
       "  </thead>\n",
       "  <tbody>\n",
       "    <tr>\n",
       "      <th>count</th>\n",
       "      <td>954</td>\n",
       "    </tr>\n",
       "    <tr>\n",
       "      <th>unique</th>\n",
       "      <td>954</td>\n",
       "    </tr>\n",
       "    <tr>\n",
       "      <th>top</th>\n",
       "      <td>136097633625;United States;Android;TipTop;04.0...</td>\n",
       "    </tr>\n",
       "    <tr>\n",
       "      <th>freq</th>\n",
       "      <td>1</td>\n",
       "    </tr>\n",
       "  </tbody>\n",
       "</table>\n",
       "</div>"
      ],
      "text/plain": [
       "       user_id ;region;device;channel;session_start;session_end;time_session;click_count;buy_count;price;age\n",
       "count                                                 954                                                   \n",
       "unique                                                954                                                   \n",
       "top     136097633625;United States;Android;TipTop;04.0...                                                   \n",
       "freq                                                    1                                                   "
      ]
     },
     "execution_count": 7,
     "metadata": {},
     "output_type": "execute_result"
    }
   ],
   "source": [
    "df.describe()"
   ]
  },
  {
   "cell_type": "code",
   "execution_count": null,
   "id": "925ccabe-8884-4db9-8e68-b3199e8cd649",
   "metadata": {},
   "outputs": [],
   "source": []
  }
 ],
 "metadata": {
  "kernelspec": {
   "display_name": "Python [conda env:base] *",
   "language": "python",
   "name": "conda-base-py"
  },
  "language_info": {
   "codemirror_mode": {
    "name": "ipython",
    "version": 3
   },
   "file_extension": ".py",
   "mimetype": "text/x-python",
   "name": "python",
   "nbconvert_exporter": "python",
   "pygments_lexer": "ipython3",
   "version": "3.13.5"
  }
 },
 "nbformat": 4,
 "nbformat_minor": 5
}
