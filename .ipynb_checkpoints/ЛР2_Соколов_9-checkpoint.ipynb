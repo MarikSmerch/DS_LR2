{
 "cells": [
  {
   "cell_type": "markdown",
   "id": "38efb836-3be3-4481-87e6-ffe8082fdbfc",
   "metadata": {},
   "source": [
    "# Цель работы\n",
    "\n",
    "Изучение связи между признаками двумерного набора данных, визуализация данных.\n",
    "# Вариант задания\n",
    "\n",
    "Вариант №9.\n",
    "\n",
    "Набор данных: visits2.csv.\n",
    "\n",
    "Данные пользовательских сессии магазина:\n",
    "1. уникальный идентификатор пользователя;\n",
    "2. страна пользователя;\n",
    "3. устройство пользователя;\n",
    "4. идентификатор рекламного источника, из которого пришел пользователь;\n",
    "5. дата и время начала сессии;\n",
    "6. дата и время окончания сессии;\n",
    "7. время сессии в минутах;\n",
    "8. кол-во кликов пользователя;\n",
    "9. количество товаров в корзине;\n",
    "10. стоимость покупок;\n",
    "11. возраст пользователя.\n",
    "# Ход выполнения работы\n",
    "**1. Чтение файла**"
   ]
  },
  {
   "cell_type": "code",
   "execution_count": null,
   "id": "1feb2371-0e46-489b-ba37-063af849ba0a",
   "metadata": {},
   "outputs": [],
   "source": []
  }
 ],
 "metadata": {
  "kernelspec": {
   "display_name": "Python [conda env:base] *",
   "language": "python",
   "name": "conda-base-py"
  },
  "language_info": {
   "codemirror_mode": {
    "name": "ipython",
    "version": 3
   },
   "file_extension": ".py",
   "mimetype": "text/x-python",
   "name": "python",
   "nbconvert_exporter": "python",
   "pygments_lexer": "ipython3",
   "version": "3.13.5"
  }
 },
 "nbformat": 4,
 "nbformat_minor": 5
}
